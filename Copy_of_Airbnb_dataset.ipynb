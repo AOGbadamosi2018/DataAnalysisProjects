{
  "cells": [
    {
      "cell_type": "markdown",
      "metadata": {
        "id": "view-in-github",
        "colab_type": "text"
      },
      "source": [
        "<a href=\"https://colab.research.google.com/github/AOGbadamosi2018/DataAnalysisProjects/blob/master/Copy_of_Airbnb_dataset.ipynb\" target=\"_parent\"><img src=\"https://colab.research.google.com/assets/colab-badge.svg\" alt=\"Open In Colab\"/></a>"
      ]
    },
    {
      "cell_type": "code",
      "execution_count": null,
      "metadata": {
        "id": "yo0hW3RY0ldI"
      },
      "outputs": [],
      "source": [
        "import pandas as pd\n",
        "\n",
        "listings = pd.read_csv(\"https://storage.googleapis.com/public-data-337819/listings%202%20reduced.csv\",low_memory=False)\n",
        "reviews = pd.read_csv(\"https://storage.googleapis.com/public-data-337819/reviews%202%20reduced.csv\",low_memory=False)"
      ]
    },
    {
      "cell_type": "code",
      "execution_count": null,
      "metadata": {
        "colab": {
          "base_uri": "https://localhost:8080/"
        },
        "id": "I553tK0NAHtd",
        "outputId": "38b34365-dfa6-4bc7-ef42-0c1261faca7c"
      },
      "outputs": [
        {
          "name": "stdout",
          "output_type": "stream",
          "text": [
            "|    |    id | listing_url                        |      scrape_id | last_scraped   | source      | name                                                                      | description                                                                                                                                                                                                                                                                                                                                                                                                                                                                                                                                                                                                                                                                                                                                                                                                                                                                                                                                                                                                                              | neighborhood_overview                                                                                                                                                                                                                                                                                                                                                                                                                                                                                                                                                                                                                                                                                                                                                                                                                                                                                                                                                                                                                    | picture_url                                                                                            |   host_id | host_url                                 | host_name   | host_since   | host_location                                           | host_about                                                                                                                                                                                                                                               | host_response_time   | host_response_rate   | host_acceptance_rate   | host_is_superhost   | host_thumbnail_url                                                                                         | host_picture_url                                                                                              | host_neighbourhood   |   host_listings_count |   host_total_listings_count | host_verifications   | host_has_profile_pic   | host_identity_verified   | neighbourhood                             | neighbourhood_cleansed   |   neighbourhood_group_cleansed |   latitude |   longitude | property_type               | room_type       |   accommodates |   bathrooms | bathrooms_text   |   bedrooms |   beds | amenities                                                                                                                                                                                                                                                                                                                                                                                                                                                                                                                                                                                                                                                                                                                                                                                                                                                                                                                                                                                                                                                       | price   |   minimum_nights |   maximum_nights |   minimum_minimum_nights |   maximum_minimum_nights |   minimum_maximum_nights |   maximum_maximum_nights |   minimum_nights_avg_ntm |   maximum_nights_avg_ntm |   calendar_updated | has_availability   |   availability_30 |   availability_60 |   availability_90 |   availability_365 | calendar_last_scraped   |   number_of_reviews |   number_of_reviews_ltm |   number_of_reviews_l30d | first_review   | last_review   |   review_scores_rating |   review_scores_accuracy |   review_scores_cleanliness |   review_scores_checkin |   review_scores_communication |   review_scores_location |   review_scores_value |   license | instant_bookable   |   calculated_host_listings_count |   calculated_host_listings_count_entire_homes |   calculated_host_listings_count_private_rooms |   calculated_host_listings_count_shared_rooms |   reviews_per_month |\n",
            "|---:|------:|:-----------------------------------|---------------:|:---------------|:------------|:--------------------------------------------------------------------------|:-----------------------------------------------------------------------------------------------------------------------------------------------------------------------------------------------------------------------------------------------------------------------------------------------------------------------------------------------------------------------------------------------------------------------------------------------------------------------------------------------------------------------------------------------------------------------------------------------------------------------------------------------------------------------------------------------------------------------------------------------------------------------------------------------------------------------------------------------------------------------------------------------------------------------------------------------------------------------------------------------------------------------------------------|:-----------------------------------------------------------------------------------------------------------------------------------------------------------------------------------------------------------------------------------------------------------------------------------------------------------------------------------------------------------------------------------------------------------------------------------------------------------------------------------------------------------------------------------------------------------------------------------------------------------------------------------------------------------------------------------------------------------------------------------------------------------------------------------------------------------------------------------------------------------------------------------------------------------------------------------------------------------------------------------------------------------------------------------------|:-------------------------------------------------------------------------------------------------------|----------:|:-----------------------------------------|:------------|:-------------|:--------------------------------------------------------|:---------------------------------------------------------------------------------------------------------------------------------------------------------------------------------------------------------------------------------------------------------|:---------------------|:---------------------|:-----------------------|:--------------------|:-----------------------------------------------------------------------------------------------------------|:--------------------------------------------------------------------------------------------------------------|:---------------------|----------------------:|----------------------------:|:---------------------|:-----------------------|:-------------------------|:------------------------------------------|:-------------------------|-------------------------------:|-----------:|------------:|:----------------------------|:----------------|---------------:|------------:|:-----------------|-----------:|-------:|:----------------------------------------------------------------------------------------------------------------------------------------------------------------------------------------------------------------------------------------------------------------------------------------------------------------------------------------------------------------------------------------------------------------------------------------------------------------------------------------------------------------------------------------------------------------------------------------------------------------------------------------------------------------------------------------------------------------------------------------------------------------------------------------------------------------------------------------------------------------------------------------------------------------------------------------------------------------------------------------------------------------------------------------------------------------|:--------|-----------------:|-----------------:|-------------------------:|-------------------------:|-------------------------:|-------------------------:|-------------------------:|-------------------------:|-------------------:|:-------------------|------------------:|------------------:|------------------:|-------------------:|:------------------------|--------------------:|------------------------:|-------------------------:|:---------------|:--------------|-----------------------:|-------------------------:|----------------------------:|------------------------:|------------------------------:|-------------------------:|----------------------:|----------:|:-------------------|---------------------------------:|----------------------------------------------:|-----------------------------------------------:|----------------------------------------------:|--------------------:|\n",
            "|  0 | 92644 | https://www.airbnb.com/rooms/92644 | 20230906022807 | 2023-09-06     | city scrape | Rental unit in Earlsfield · ★4.57 · 1 bedroom · 2 beds · 1.5 shared baths | <b>The space</b><br />Hi everyone! I have 2 rooms with twin beds for people who wish to travel to London England in my home for rent.I live in a quiet and leafy suburb in southwest london and I am only 12 minutes to waterloo station on the train,  there are also several great bus connections; 44 to victoria, 77 to waterloo and the 270 which goes to Chelsea.  Across the road from my house there is also a public tennis court which everyone is free to use and several playing fields, where any type of sport can be played.  There are several restaurants nearby serving a  variety of food, everything you could wish for,  plus there several bars and pubs  so you will never be stuck for any where to go out.   I am experienced at hosting and really enjoy meeting new people. I am Irish but have lived in London for 20 years now so if you are interested then drop me a line.                                                                                                                                | nan                                                                                                                                                                                                                                                                                                                                                                                                                                                                                                                                                                                                                                                                                                                                                                                                                                                                                                                                                                                                                                      | https://a0.muscache.com/pictures/715127/85bdb401_original.jpg                                          |    498201 | https://www.airbnb.com/users/show/498201 | Dee Dee     | 2011-04-10   | London, United Kingdom                                  | I am employed at St Georges hospital in tooting London and my Partner Sid is a builder with a big construction company. I also host visitors from AIRBNB and really enjoy meeting new people                                                             | nan                  | nan                  | 100%                   | f                   | https://a0.muscache.com/im/pictures/user/0edcb4de-d483-4d81-baab-b8d7ecf9af55.jpg?aki_policy=profile_small | https://a0.muscache.com/im/pictures/user/0edcb4de-d483-4d81-baab-b8d7ecf9af55.jpg?aki_policy=profile_x_medium | Earlsfield           |                     1 |                           1 | ['email', 'phone']   | t                      | t                        | nan                                       | Wandsworth               |                            nan |    51.442  |    -0.18739 | Private room in rental unit | Private room    |              2 |         nan | 1.5 shared baths |        nan |      2 | [\"Heating\", \"TV with standard cable\", \"Wifi\", \"Smoke alarm\", \"Dryer\", \"Kitchen\", \"Washer\", \"Essentials\"]                                                                                                                                                                                                                                                                                                                                                                                                                                                                                                                                                                                                                                                                                                                                                                                                                                                                                                                                                        | $42.00  |                2 |              730 |                        2 |                        2 |                     1125 |                     1125 |                        2 |                     1125 |                nan | t                  |                 0 |                 0 |                 0 |                217 | 2023-09-06              |                 216 |                       9 |                        0 | 2011-06-21     | 2022-10-29    |                   4.57 |                     4.74 |                        4.86 |                    4.71 |                          4.67 |                     4.53 |                  4.68 |       nan | t                  |                                1 |                                             0 |                                              1 |                                             0 |                1.45 |\n",
            "|  1 | 93015 | https://www.airbnb.com/rooms/93015 | 20230906022807 | 2023-09-06     | city scrape | Rental unit in Hammersmith · ★4.82 · 2 bedrooms · 3 beds · 1 bath         | Gorgeous 2 bed ground floor apartment with period features and a real gas fire to keep you warm and cosy.  A great location in West London as a base to explore the city; quiet and residential after a long day out but very accessible from Heathrow and Gatwick and plenty of choices of tube or bus to get you quickly into the centre.<br /><br /><b>The space</b><br />Our apartment is located in the W14 district, and is an excellent base to explore London. Set in a leafy quiet residential street, you have numerous local restaurants and pubs a few minutes walk away. The area is also known as Brook Green. Within 10 minutes walk you can be exploring shopping districts like Westfield and High Street Kensington. The famous Portobello market and Notting Hill area are also a short walk or tube ride away. The property has two bedrooms with double beds overlooking gardens at the back; the bathroom has a shower and bath and plenty of storage; the lounge has beautiful period features, an open fire and  | A bit of history about the W14 area: <br />Comprising parts of Fulham, Hammersmith, Shepherds Bush, Holland Park and Earls Court, it seems only right that four of London's busiest west-east roads pass through here and all are bisected by an equally busy north-south route.  Equally appropriate is the proliferation of hotels and boarding houses, ancillaries to the twin monoliths in the area, Olympia and Earls Court Exhibition Halls. Covering all standards of accommodation, they are perhaps the sole unifying element of this postcode.  Facilities in W14 are very much geared for visitors. Slap bang in the middle of W14 is the cavernous Kensington Olympia, built in 1884 and able to supply a gargantuan 37,000 square metres of exhibition space split between its three constituent halls. In recent decades it has had to play second fiddle to the even larger Earls Court Hall - just over the border in SW5 - but with both places now owned by the same firm the two quite happily complement each other. | https://a0.muscache.com/pictures/865937ec-ee56-4991-acda-4a01d81836db.jpg                              |    499704 | https://www.airbnb.com/users/show/499704 | Sarah       | 2011-04-11   | London, United Kingdom                                  | Been living in London for over 20 years and I love the city!                                                                                                                                                                                             | within a few hours   | 100%                 | 25%                    | f                   | https://a0.muscache.com/im/pictures/user/452ffe92-e2d1-4b27-9aac-32ea3c224482.jpg?aki_policy=profile_small | https://a0.muscache.com/im/pictures/user/452ffe92-e2d1-4b27-9aac-32ea3c224482.jpg?aki_policy=profile_x_medium | Hammersmith          |                     1 |                           2 | ['email', 'phone']   | t                      | t                        | Hammersmith, England, United Kingdom      | Hammersmith and Fulham   |                            nan |    51.4999 |    -0.21707 | Entire rental unit          | Entire home/apt |              5 |         nan | 1 bath           |          2 |      3 | [\"Window guards\", \"Bathtub\", \"Hot water kettle\", \"Laundromat nearby\", \"Indoor fireplace\", \"Microwave\", \"Coffee maker\", \"Self check-in\", \"Dining table\", \"Bed linens\", \"Books and reading material\", \"Cleaning available during stay\", \"Clothing storage: closet and dresser\", \"Coffee\", \"Hot water\", \"Iron\", \"First aid kit\", \"Lockbox\", \"Safe\", \"Garden view\", \"Paid parking off premises\", \"Wine glasses\", \"Washer\", \"Portable fans\", \"Cooking basics\", \"Heating\", \"Dishwasher\", \"Drying rack for clothing\", \"TV with standard cable\", \"Freezer\", \"Oven\", \"Refrigerator\", \"Baking sheet\", \"Body soap\", \"Hair dryer\", \"Essentials\", \"Private entrance\", \"Long term stays allowed\", \"Stove\", \"Carbon monoxide alarm\", \"Toaster\", \"Cleaning products\", \"Extra pillows and blankets\", \"Wifi \\u2013 37 Mbps\", \"Dishes and silverware\", \"Smoke alarm\", \"Kitchen\", \"Hangers\"]                                                                                                                                                                                        | $175.00 |                5 |              240 |                        5 |                        5 |                      240 |                      240 |                        5 |                      240 |                nan | t                  |                13 |                18 |                38 |                 40 | 2023-09-06              |                  38 |                       2 |                        0 | 2012-02-01     | 2022-09-30    |                   4.82 |                     4.76 |                        4.62 |                    4.85 |                          4.88 |                     4.85 |                  4.74 |       nan | f                  |                                1 |                                             1 |                                              0 |                                             0 |                0.27 |\n",
            "|  2 | 13913 | https://www.airbnb.com/rooms/13913 | 20230906022807 | 2023-09-06     | city scrape | Rental unit in Islington · ★4.80 · 1 bedroom · 1 bed · 1 shared bath      | My bright double bedroom with a large window has a relaxed feeling! It comfortably fits one or two and is centrally located just two blocks from Finsbury Park. Enjoy great restaurants in the area and easy access to easy transport tubes, trains and buses. Babies and children of all ages are welcome.<br /><br /><b>The space</b><br />Hello Everyone,<br /><br />I'm offering my lovely double bedroom in Finsbury Park area (zone 2) for let in a shared apartment. <br />You will share the apartment with me and it is fully furnished with a self catering kitchen. Two people can easily sleep well as the room has a queen size bed. I also have a travel cot for a baby for guest with small children. <br /><br />I will require a deposit up front as a security gesture on both our parts and will be given back to you when you return the keys. <br /><br />I trust anyone who will be responding to this add would treat my home with care and respect . <br /><br />Best Wishes <br /><br />Alina<br /><br /><b>Gue | Finsbury Park is a friendly melting pot community composed of Turkish, French, Spanish, Middle Eastern, Irish and English families. <br />We have a wonderful variety of international restaurants directly under us on Stroud Green Road. And there are many shops and large Tescos supermarket right next door. <br /><br />But you can also venture up to Crouch End and along Greens Lanes where there will endless choice of Turkish and Middle Eastern cuisines.s                                                                                                                                                                                                                                                                                                                                                                                                                                                                                                                                                                  | https://a0.muscache.com/pictures/miso/Hosting-13913/original/d755aa6d-cebb-4464-80be-2722c921e8d5.jpeg |     54730 | https://www.airbnb.com/users/show/54730  | Alina       | 2009-11-16   | London, United Kingdom                                  | I am a Multi-Media Visual Artist and Creative Practitioner in Education. I live in  London England with a Greek/Canadian origins and work internationally.                                                                                               | within a few hours   | 100%                 | 88%                    | f                   | https://a0.muscache.com/im/users/54730/profile_pic/1327774386/original.jpg?aki_policy=profile_small        | https://a0.muscache.com/im/users/54730/profile_pic/1327774386/original.jpg?aki_policy=profile_x_medium        | LB of Islington      |                     3 |                           4 | ['email', 'phone']   | t                      | t                        | Islington, Greater London, United Kingdom | Islington                |                            nan |    51.5686 |    -0.1127  | Private room in rental unit | Private room    |              1 |         nan | 1 shared bath    |        nan |      1 | [\"Bathtub\", \"Hot water kettle\", \"Laundromat nearby\", \"Private patio or balcony\", \"Paid street parking off premises\", \"Shampoo\", \"Free washer \\u2013 In unit\", \"Luggage dropoff allowed\", \"Coffee maker\", \"Self check-in\", \"Dining table\", \"Bed linens\", \"Books and reading material\", \"Blender\", \"Coffee\", \"Hot water\", \"Iron\", \"First aid kit\", \"Wine glasses\", \"Building staff\", \"Portable fans\", \"Board games\", \"Fire extinguisher\", \"Clothing storage: dresser\", \"Cooking basics\", \"Freezer\", \"Shower gel\", \"Lock on bedroom door\", \"Ethernet connection\", \"Children\\u2019s books and toys\", \"Oven\", \"Refrigerator\", \"Outlet covers\", \"Body soap\", \"Baking sheet\", \"Hair dryer\", \"Essentials\", \"Private entrance\", \"Long term stays allowed\", \"Babysitter recommendations\", \"Room-darkening shades\", \"Dedicated workspace\", \"Stove\", \"Carbon monoxide alarm\", \"Central heating\", \"Toaster\", \"Extra pillows and blankets\", \"Children\\u2019s dinnerware\", \"Wifi\", \"Dishes and silverware\", \"Lake access\", \"Smoke alarm\", \"Kitchen\", \"Hangers\", \"Conditioner\"] | $79.00  |                1 |               29 |                        1 |                        1 |                       29 |                       29 |                        1 |                       29 |                nan | t                  |                25 |                55 |                85 |                360 | 2023-09-06              |                  41 |                      11 |                        0 | 2010-08-18     | 2022-12-11    |                   4.8  |                     4.72 |                        4.72 |                    4.74 |                          4.82 |                     4.69 |                  4.69 |       nan | f                  |                                2 |                                             1 |                                              1 |                                             0 |                0.26 |\n",
            "|    |       |                                    |                |                |             |                                                                           |                                                                                                                                                                                                                                                                                                                                                                                                                                                                                                                                                                                                                                                                                                                                                                                                                                                                                                                                                                                                                                          |                                                                                                                                                                                                                                                                                                                                                                                                                                                                                                                                                                                                                                                                                                                                                                                                                                                                                                                                                                                                                                          |                                                                                                        |           |                                          |             |              |                                                         |                                                                                                                                                                                                                                                          |                      |                      |                        |                     |                                                                                                            |                                                                                                               |                      |                       |                             |                      |                        |                          |                                           |                          |                                |            |             |                             |                 |                |             |                  |            |        |                                                                                                                                                                                                                                                                                                                                                                                                                                                                                                                                                                                                                                                                                                                                                                                                                                                                                                                                                                                                                                                                 |         |                  |                  |                          |                          |                          |                          |                          |                          |                    |                    |                   |                   |                   |                    |                         |                     |                         |                          |                |               |                        |                          |                             |                         |                               |                          |                       |           |                    |                                  |                                               |                                                |                                               |                     |\n",
            "|    |       |                                    |                |                |             |                                                                           |                                                                                                                                                                                                                                                                                                                                                                                                                                                                                                                                                                                                                                                                                                                                                                                                                                                                                                                                                                                                                                          |                                                                                                                                                                                                                                                                                                                                                                                                                                                                                                                                                                                                                                                                                                                                                                                                                                                                                                                                                                                                                                          |                                                                                                        |           |                                          |             |              |                                                         | I love everything there is to be enjoyed in life and travel is on top of my list!                                                                                                                                                                        |                      |                      |                        |                     |                                                                                                            |                                                                                                               |                      |                       |                             |                      |                        |                          |                                           |                          |                                |            |             |                             |                 |                |             |                  |            |        |                                                                                                                                                                                                                                                                                                                                                                                                                                                                                                                                                                                                                                                                                                                                                                                                                                                                                                                                                                                                                                                                 |         |                  |                  |                          |                          |                          |                          |                          |                          |                    |                    |                   |                   |                   |                    |                         |                     |                         |                          |                |               |                        |                          |                             |                         |                               |                          |                       |           |                    |                                  |                                               |                                                |                                               |                     |\n",
            "|  3 | 15400 | https://www.airbnb.com/rooms/15400 | 20230906022807 | 2023-09-06     | city scrape | Rental unit in London · ★4.80 · 1 bedroom · 1 bed · 1 bath                | Lots of windows and light.  St Luke's Gardens are at the end of the block, and the river not too far the other way. Ten minutes walk if you go slowly. Buses to everywhere round the corner and shops, restaurants, pubs, the cinema and once again Waitrose .<br /><br /><b>The space</b><br />Bright Chelsea Apartment <br /><br />This is a bright one bedroom ground floor apartment in an interesting listed building. There is one double bedroom and a living room/kitchen The apartment has a full bathroom and the kitchen is fully equipped. Two wardrobes are available exclusively for guests and bedside tables and two long drawers.<br /><br />This sunny convenient compact flat is just around the corner from the Waitrose supermarket and all sorts of shops, cinemas, restaurants and pubs.  This is a lovely part of London.<br /><br />There is a fun farmers market in the King's Road at the weekend. <br /><br />Buses to everywhere are just round the corner, and two underground stations are within ten min | It is Chelsea.                                                                                                                                                                                                                                                                                                                                                                                                                                                                                                                                                                                                                                                                                                                                                                                                                                                                                                                                                                                                                           | https://a0.muscache.com/pictures/428392/462d262a_original.jpg                                          |     60302 | https://www.airbnb.com/users/show/60302  | Philippa    | 2009-12-05   | Royal Borough of Kensington and Chelsea, United Kingdom | English, grandmother,  I have travelled quite a lot.  I love being in different countries, as long as they are warm!.                                                                                                                                    | within a day         | 100%                 | 41%                    | f                   | https://a0.muscache.com/im/users/60302/profile_pic/1348610590/original.jpg?aki_policy=profile_small        | https://a0.muscache.com/im/users/60302/profile_pic/1348610590/original.jpg?aki_policy=profile_x_medium        | Chelsea              |                     1 |                          12 | ['email', 'phone']   | t                      | t                        | London, United Kingdom                    | Kensington and Chelsea   |                            nan |    51.4878 |    -0.16813 | Entire rental unit          | Entire home/apt |              2 |         nan | 1 bath           |          1 |      1 | [\"Shampoo\", \"Luggage dropoff allowed\", \"Dryer\", \"Microwave\", \"Coffee maker\", \"Hot water\", \"Iron\", \"Host greets you\", \"Washer\", \"Fire extinguisher\", \"Cooking basics\", \"Heating\", \"TV with standard cable\", \"Refrigerator\", \"Hair dryer\", \"Essentials\", \"Long term stays allowed\", \"Carbon monoxide alarm\", \"Wifi\", \"Dishes and silverware\", \"Smoke alarm\", \"Kitchen\", \"Hangers\", \"Dedicated workspace\", \"Air conditioning\"]                                                                                                                                                                                                                                                                                                                                                                                                                                                                                                                                                                                                                                     | $150.00 |                7 |               30 |                        7 |                        7 |                       30 |                       30 |                        7 |                       30 |                nan | t                  |                 7 |                 7 |                 7 |                 73 | 2023-09-06              |                  94 |                       5 |                        0 | 2009-12-21     | 2023-05-01    |                   4.8  |                     4.85 |                        4.88 |                    4.88 |                          4.83 |                     4.93 |                  4.74 |       nan | f                  |                                1 |                                             1 |                                              0 |                                             0 |                0.56 |\n",
            "|    |       |                                    |                |                |             |                                                                           |                                                                                                                                                                                                                                                                                                                                                                                                                                                                                                                                                                                                                                                                                                                                                                                                                                                                                                                                                                                                                                          |                                                                                                                                                                                                                                                                                                                                                                                                                                                                                                                                                                                                                                                                                                                                                                                                                                                                                                                                                                                                                                          |                                                                                                        |           |                                          |             |              |                                                         |  I enjoy preparing a clean comfortable flat with plenty of empty cupboards, as I would like to find things myself.                                                                                                                                       |                      |                      |                        |                     |                                                                                                            |                                                                                                               |                      |                       |                             |                      |                        |                          |                                           |                          |                                |            |             |                             |                 |                |             |                  |            |        |                                                                                                                                                                                                                                                                                                                                                                                                                                                                                                                                                                                                                                                                                                                                                                                                                                                                                                                                                                                                                                                                 |         |                  |                  |                          |                          |                          |                          |                          |                          |                    |                    |                   |                   |                   |                    |                         |                     |                         |                          |                |               |                        |                          |                             |                         |                               |                          |                       |           |                    |                                  |                                               |                                                |                                               |                     |\n",
            "|    |       |                                    |                |                |             |                                                                           |                                                                                                                                                                                                                                                                                                                                                                                                                                                                                                                                                                                                                                                                                                                                                                                                                                                                                                                                                                                                                                          |                                                                                                                                                                                                                                                                                                                                                                                                                                                                                                                                                                                                                                                                                                                                                                                                                                                                                                                                                                                                                                          |                                                                                                        |           |                                          |             |              |                                                         |  Nowadays I like to travel by sea so it is a challenge getting to where I would like to go. But that is the fun of it!                                                                                                                                   |                      |                      |                        |                     |                                                                                                            |                                                                                                               |                      |                       |                             |                      |                        |                          |                                           |                          |                                |            |             |                             |                 |                |             |                  |            |        |                                                                                                                                                                                                                                                                                                                                                                                                                                                                                                                                                                                                                                                                                                                                                                                                                                                                                                                                                                                                                                                                 |         |                  |                  |                          |                          |                          |                          |                          |                          |                    |                    |                   |                   |                   |                    |                         |                     |                         |                          |                |               |                        |                          |                             |                         |                               |                          |                       |           |                    |                                  |                                               |                                                |                                               |                     |\n",
            "|  4 | 93734 | https://www.airbnb.com/rooms/93734 | 20230906022807 | 2023-09-07     | city scrape | Condo in London · ★4.62 · 1 bedroom · 1 bed · 1 shared bath               | <b>During your stay</b><br />I’m a professional photographer and am in and out of the house all the time. I’m only a phone call away if you need me.                                                                                                                                                                                                                                                                                                                                                                                                                                                                                                                                                                                                                                                                                                                                                                                                                                                                                     | nan                                                                                                                                                                                                                                                                                                                                                                                                                                                                                                                                                                                                                                                                                                                                                                                                                                                                                                                                                                                                                                      | https://a0.muscache.com/pictures/miso/Hosting-93734/original/505d431f-59c6-49fd-b25e-8f5132994bfc.jpeg |    497514 | https://www.airbnb.com/users/show/497514 | William     | 2011-04-10   | London, United Kingdom                                  | I’m a maverick by nature. Restless and curious. Life is for living. I enjoy travelling, fitness, reading, and PlayStation. Film is a big passion of mine. As is Liverpool Football Club. LFC.                                                            | within a few hours   | 90%                  | 75%                    | t                   | https://a0.muscache.com/im/users/497514/profile_pic/1340871247/original.jpg?aki_policy=profile_small       | https://a0.muscache.com/im/users/497514/profile_pic/1340871247/original.jpg?aki_policy=profile_x_medium       | Greenwich            |                     1 |                           1 | ['email', 'phone']   | t                      | t                        | nan                                       | Greenwich                |                            nan |    51.4762 |     0.01442 | Private room in condo       | Private room    |              2 |         nan | 1 shared bath    |        nan |      1 | [\"Window guards\", \"Bathtub\", \"Hot water kettle\", \"Laundromat nearby\", \"Free driveway parking on premises \\u2013 2 spaces\", \"Private patio or balcony\", \"Free washer \\u2013 In unit\", \"Whirlpool stainless steel gas stove\", \"Luggage dropoff allowed\", \"Microwave\", \"Bed linens\", \"Clothing storage: closet and dresser\", \"Hot water\", \"Iron\", \"Host greets you\", \"First aid kit\", \"Garden view\", \"Wine glasses\", \"Portable fans\", \"Fire extinguisher\", \"Cooking basics\", \"Shared backyard \\u2013 Not fully fenced\", \"Drying rack for clothing\", \"Freezer\", \"Free street parking\", \"Ethernet connection\", \"TV\", \"Baking sheet\", \"Hair dryer\", \"Essentials\", \"Bosch refrigerator\", \"Private entrance\", \"Long term stays allowed\", \"Room-darkening shades\", \"Carbon monoxide alarm\", \"Central heating\", \"Zanussi stainless steel oven\", \"Toaster\", \"Cleaning products\", \"Extra pillows and blankets\", \"Wifi\", \"Dishes and silverware\", \"Smoke alarm\", \"Kitchen\", \"Hangers\", \"Dedicated workspace\"]                                                                | $46.00  |                4 |              365 |                        2 |                        4 |                      365 |                      365 |                        4 |                      365 |                nan | t                  |                 5 |                 5 |                 5 |                196 | 2023-09-07              |                 180 |                      25 |                        3 | 2011-06-30     | 2023-09-02    |                   4.62 |                     4.7  |                        4.59 |                    4.63 |                          4.81 |                     4.64 |                  4.67 |       nan | f                  |                                1 |                                             0 |                                              1 |                                             0 |                1.21 |\n",
            "|    |       |                                    |                |                |             |                                                                           |                                                                                                                                                                                                                                                                                                                                                                                                                                                                                                                                                                                                                                                                                                                                                                                                                                                                                                                                                                                                                                          |                                                                                                                                                                                                                                                                                                                                                                                                                                                                                                                                                                                                                                                                                                                                                                                                                                                                                                                                                                                                                                          |                                                                                                        |           |                                          |             |              |                                                         |                                                                                                                                                                                                                                                          |                      |                      |                        |                     |                                                                                                            |                                                                                                               |                      |                       |                             |                      |                        |                          |                                           |                          |                                |            |             |                             |                 |                |             |                  |            |        |                                                                                                                                                                                                                                                                                                                                                                                                                                                                                                                                                                                                                                                                                                                                                                                                                                                                                                                                                                                                                                                                 |         |                  |                  |                          |                          |                          |                          |                          |                          |                    |                    |                   |                   |                   |                    |                         |                     |                         |                          |                |               |                        |                          |                             |                         |                               |                          |                       |           |                    |                                  |                                               |                                                |                                               |                     |\n",
            "|    |       |                                    |                |                |             |                                                                           |                                                                                                                                                                                                                                                                                                                                                                                                                                                                                                                                                                                                                                                                                                                                                                                                                                                                                                                                                                                                                                          |                                                                                                                                                                                                                                                                                                                                                                                                                                                                                                                                                                                                                                                                                                                                                                                                                                                                                                                                                                                                                                          |                                                                                                        |           |                                          |             |              |                                                         | I’m an accomplished aquanaut (SCUBA), diving all over the world. Learning Italian has been a project of mine for some time now. I know a lot of the grammar but seldom get the chance to speak it. So, I’m not fluent at all. I aim to improve on that.  |                      |                      |                        |                     |                                                                                                            |                                                                                                               |                      |                       |                             |                      |                        |                          |                                           |                          |                                |            |             |                             |                 |                |             |                  |            |        |                                                                                                                                                                                                                                                                                                                                                                                                                                                                                                                                                                                                                                                                                                                                                                                                                                                                                                                                                                                                                                                                 |         |                  |                  |                          |                          |                          |                          |                          |                          |                    |                    |                   |                   |                   |                    |                         |                     |                         |                          |                |               |                        |                          |                             |                         |                               |                          |                       |           |                    |                                  |                                               |                                                |                                               |                     |\n",
            "|    |       |                                    |                |                |             |                                                                           |                                                                                                                                                                                                                                                                                                                                                                                                                                                                                                                                                                                                                                                                                                                                                                                                                                                                                                                                                                                                                                          |                                                                                                                                                                                                                                                                                                                                                                                                                                                                                                                                                                                                                                                                                                                                                                                                                                                                                                                                                                                                                                          |                                                                                                        |           |                                          |             |              |                                                         |                                                                                                                                                                                                                                                          |                      |                      |                        |                     |                                                                                                            |                                                                                                               |                      |                       |                             |                      |                        |                          |                                           |                          |                                |            |             |                             |                 |                |             |                  |            |        |                                                                                                                                                                                                                                                                                                                                                                                                                                                                                                                                                                                                                                                                                                                                                                                                                                                                                                                                                                                                                                                                 |         |                  |                  |                          |                          |                          |                          |                          |                          |                    |                    |                   |                   |                   |                    |                         |                     |                         |                          |                |               |                        |                          |                             |                         |                               |                          |                       |           |                    |                                  |                                               |                                                |                                               |                     |\n",
            "|    |       |                                    |                |                |             |                                                                           |                                                                                                                                                                                                                                                                                                                                                                                                                                                                                                                                                                                                                                                                                                                                                                                                                                                                                                                                                                                                                                          |                                                                                                                                                                                                                                                                                                                                                                                                                                                                                                                                                                                                                                                                                                                                                                                                                                                                                                                                                                                                                                          |                                                                                                        |           |                                          |             |              |                                                         | Portrait photography is a passion and is my business too.                                                                                                                                                                                                |                      |                      |                        |                     |                                                                                                            |                                                                                                               |                      |                       |                             |                      |                        |                          |                                           |                          |                                |            |             |                             |                 |                |             |                  |            |        |                                                                                                                                                                                                                                                                                                                                                                                                                                                                                                                                                                                                                                                                                                                                                                                                                                                                                                                                                                                                                                                                 |         |                  |                  |                          |                          |                          |                          |                          |                          |                    |                    |                   |                   |                   |                    |                         |                     |                         |                          |                |               |                        |                          |                             |                         |                               |                          |                       |           |                    |                                  |                                               |                                                |                                               |                     |\n",
            "|    |   listing_id |     id | date       |   reviewer_id | reviewer_name   | comments                                                                                                                                                                                                                                                                                                                                                                                                                                                                                                                                                                                                                                                                                                                                                                                                                                                                                                  |\n",
            "|---:|-------------:|-------:|:-----------|--------------:|:----------------|:----------------------------------------------------------------------------------------------------------------------------------------------------------------------------------------------------------------------------------------------------------------------------------------------------------------------------------------------------------------------------------------------------------------------------------------------------------------------------------------------------------------------------------------------------------------------------------------------------------------------------------------------------------------------------------------------------------------------------------------------------------------------------------------------------------------------------------------------------------------------------------------------------------|\n",
            "|  0 |        13913 |  80770 | 2010-08-18 |        177109 | Michael         | My girlfriend and I hadn't known Alina before we took the leap of faith to rent her flat. Alina just couldn't be nicer! Her flat is comfortable, homey, very sunny, and quiet at night. Her diverse neighborhood rocks! It's full of excellent eateries of varying ethnicities, good supermarkets, etc., etc. Her place is about a 10-minute walk to the Finsbury Park tube stop, and there are also several buses that ply Stroud Green Road. The Piccadilly and Victoria tube lines that serve Finsbury Park are very dependable and come frequently. My only caveat is if you are unwilling to take 20- to 40-minute commutes to downtown London attractions and money is no object, you will prefer to stay downtown. But for anyone else, you will love your experience of living in a real, untouristy neighborhood and dealing with a generous, warm-hearted woman I'm happy to call a new friend. |\n",
            "|  1 |        13913 | 367568 | 2011-07-11 |      19835707 | Mathias         | Alina was a really good host. The flat is clean and tidy - and really close to Finsbury Park station which is quite close to Central London. I recommend Alina to everyone.                                                                                                                                                                                                                                                                                                                                                                                                                                                                                                                                                                                                                                                                                                                               |\n",
            "|  2 |        13913 | 529579 | 2011-09-13 |       1110304 | Kristin         | Alina is an amazing host. She made me feel right at home. It was more like hanging out with a friend than a complete stranger. She's very sweet and makes a mean espresso. There are tons of places right around flat to eat and market is close in case you want to cook. I would definitely stay here again if I was in London. Thanks Alina you're awesome.                                                                                                                                                                                                                                                                                                                                                                                                                                                                                                                                            |\n",
            "|  3 |        13913 | 595481 | 2011-10-03 |       1216358 | Camilla         | Alina's place is so nice, the room is big and clean, and the bed is huge. Alina is a great host, and she made sure I had everything I needed, for instance she had put clean towels on the bed for me:) I felt very at home in her place. Aside from that she really helped me out with a lot of things, and even helped me find a permanent place to live in London. So overall a great place to stay with a great girl.                                                                                                                                                                                                                                                                                                                                                                                                                                                                                 |\n",
            "|  4 |        13913 | 612947 | 2011-10-09 |        490840 | Jorik           | Nice location in Islington area, good for short business trip. House is OK, host is very friendly.                                                                                                                                                                                                                                                                                                                                                                                                                                                                                                                                                                                                                                                                                                                                                                                                        |\n"
          ]
        }
      ],
      "source": [
        "print(listings.head().to_markdown())\n",
        "print(reviews.head().to_markdown())"
      ]
    },
    {
      "cell_type": "code",
      "execution_count": null,
      "metadata": {
        "colab": {
          "base_uri": "https://localhost:8080/"
        },
        "id": "jX7nIecfHEJ7",
        "outputId": "a21933fb-81e3-4e5d-ed18-79e9f3a9dd66"
      },
      "outputs": [
        {
          "name": "stdout",
          "output_type": "stream",
          "text": [
            "      id                         listing_url       scrape_id last_scraped  \\\n",
            "0  92644  https://www.airbnb.com/rooms/92644  20230906022807   2023-09-06   \n",
            "1  93015  https://www.airbnb.com/rooms/93015  20230906022807   2023-09-06   \n",
            "2  13913  https://www.airbnb.com/rooms/13913  20230906022807   2023-09-06   \n",
            "3  15400  https://www.airbnb.com/rooms/15400  20230906022807   2023-09-06   \n",
            "4  93734  https://www.airbnb.com/rooms/93734  20230906022807   2023-09-07   \n",
            "\n",
            "        source                                               name  \\\n",
            "0  city scrape  Rental unit in Earlsfield · ★4.57 · 1 bedroom ...   \n",
            "1  city scrape  Rental unit in Hammersmith · ★4.82 · 2 bedroom...   \n",
            "2  city scrape  Rental unit in Islington · ★4.80 · 1 bedroom ·...   \n",
            "3  city scrape  Rental unit in London · ★4.80 · 1 bedroom · 1 ...   \n",
            "4  city scrape  Condo in London · ★4.62 · 1 bedroom · 1 bed · ...   \n",
            "\n",
            "                                         description  \\\n",
            "0  <b>The space</b><br />Hi everyone! I have 2 ro...   \n",
            "1  Gorgeous 2 bed ground floor apartment with per...   \n",
            "2  My bright double bedroom with a large window h...   \n",
            "3  Lots of windows and light.  St Luke's Gardens ...   \n",
            "4  <b>During your stay</b><br />I’m a professiona...   \n",
            "\n",
            "                               neighborhood_overview  \\\n",
            "0                                                NaN   \n",
            "1  A bit of history about the W14 area: <br />Com...   \n",
            "2  Finsbury Park is a friendly melting pot commun...   \n",
            "3                                     It is Chelsea.   \n",
            "4                                                NaN   \n",
            "\n",
            "                                         picture_url  host_id  ...  \\\n",
            "0  https://a0.muscache.com/pictures/715127/85bdb4...   498201  ...   \n",
            "1  https://a0.muscache.com/pictures/865937ec-ee56...   499704  ...   \n",
            "2  https://a0.muscache.com/pictures/miso/Hosting-...    54730  ...   \n",
            "3  https://a0.muscache.com/pictures/428392/462d26...    60302  ...   \n",
            "4  https://a0.muscache.com/pictures/miso/Hosting-...   497514  ...   \n",
            "\n",
            "  review_scores_communication review_scores_location review_scores_value  \\\n",
            "0                        4.67                   4.53                4.68   \n",
            "1                        4.88                   4.85                4.74   \n",
            "2                        4.82                   4.69                4.69   \n",
            "3                        4.83                   4.93                4.74   \n",
            "4                        4.81                   4.64                4.67   \n",
            "\n",
            "  license instant_bookable calculated_host_listings_count  \\\n",
            "0     NaN                t                              1   \n",
            "1     NaN                f                              1   \n",
            "2     NaN                f                              2   \n",
            "3     NaN                f                              1   \n",
            "4     NaN                f                              1   \n",
            "\n",
            "  calculated_host_listings_count_entire_homes  \\\n",
            "0                                           0   \n",
            "1                                           1   \n",
            "2                                           1   \n",
            "3                                           1   \n",
            "4                                           0   \n",
            "\n",
            "  calculated_host_listings_count_private_rooms  \\\n",
            "0                                            1   \n",
            "1                                            0   \n",
            "2                                            1   \n",
            "3                                            0   \n",
            "4                                            1   \n",
            "\n",
            "  calculated_host_listings_count_shared_rooms reviews_per_month  \n",
            "0                                           0              1.45  \n",
            "1                                           0              0.27  \n",
            "2                                           0              0.26  \n",
            "3                                           0              0.56  \n",
            "4                                           0              1.21  \n",
            "\n",
            "[5 rows x 75 columns]\n"
          ]
        }
      ],
      "source": [
        "print(listings.head())"
      ]
    },
    {
      "cell_type": "code",
      "execution_count": null,
      "metadata": {
        "id": "usLsXGsgmuQL"
      },
      "outputs": [],
      "source": [
        "# 'host_is_superhost', 'neighbourhood_cleansed', and 'price'."
      ]
    },
    {
      "cell_type": "code",
      "execution_count": null,
      "metadata": {
        "colab": {
          "base_uri": "https://localhost:8080/"
        },
        "id": "zWtRgkwQmuKi",
        "outputId": "382c89ea-a752-4817-b1c4-b3abb3f51f5e"
      },
      "outputs": [
        {
          "data": {
            "text/plain": [
              "array(['$42.00', '$175.00', '$79.00', ..., '$1,608.00', '$812.00',\n",
              "       '$1,024.00'], dtype=object)"
            ]
          },
          "execution_count": 8,
          "metadata": {},
          "output_type": "execute_result"
        }
      ],
      "source": [
        "listings['price'].unique()"
      ]
    },
    {
      "cell_type": "code",
      "execution_count": null,
      "metadata": {
        "id": "sn0Vh4-ZoNuT"
      },
      "outputs": [],
      "source": [
        "#cleaning the price columns\n",
        "listings['price_cleaned'] = listings['price'].str.replace('$','').str.replace(',','').astype('float')\n",
        "\n",
        "\n",
        "\n",
        "\n"
      ]
    },
    {
      "cell_type": "code",
      "execution_count": null,
      "metadata": {
        "colab": {
          "base_uri": "https://localhost:8080/",
          "height": 455
        },
        "id": "hKjYmKRkpUWk",
        "outputId": "26c09ebf-962f-40f6-d067-8a9cac0be32e"
      },
      "outputs": [
        {
          "data": {
            "application/vnd.google.colaboratory.intrinsic+json": {
              "summary": "{\n  \"name\": \"listings\",\n  \"rows\": 66,\n  \"fields\": [\n    {\n      \"column\": \"price_cleaned\",\n      \"properties\": {\n        \"dtype\": \"number\",\n        \"std\": 39.02991277096441,\n        \"min\": 50.0,\n        \"max\": 238.5,\n        \"num_unique_values\": 43,\n        \"samples\": [\n          65.0,\n          82.0,\n          80.0\n        ],\n        \"semantic_type\": \"\",\n        \"description\": \"\"\n      }\n    }\n  ]\n}",
              "type": "dataframe"
            },
            "text/html": [
              "\n",
              "  <div id=\"df-118bba7d-6020-4815-8b5c-35d39c664eac\" class=\"colab-df-container\">\n",
              "    <div>\n",
              "<style scoped>\n",
              "    .dataframe tbody tr th:only-of-type {\n",
              "        vertical-align: middle;\n",
              "    }\n",
              "\n",
              "    .dataframe tbody tr th {\n",
              "        vertical-align: top;\n",
              "    }\n",
              "\n",
              "    .dataframe thead th {\n",
              "        text-align: right;\n",
              "    }\n",
              "</style>\n",
              "<table border=\"1\" class=\"dataframe\">\n",
              "  <thead>\n",
              "    <tr style=\"text-align: right;\">\n",
              "      <th></th>\n",
              "      <th></th>\n",
              "      <th>price_cleaned</th>\n",
              "    </tr>\n",
              "    <tr>\n",
              "      <th>host_is_superhost</th>\n",
              "      <th>neighbourhood_cleansed</th>\n",
              "      <th></th>\n",
              "    </tr>\n",
              "  </thead>\n",
              "  <tbody>\n",
              "    <tr>\n",
              "      <th rowspan=\"2\" valign=\"top\">t</th>\n",
              "      <th>Westminster</th>\n",
              "      <td>238.5</td>\n",
              "    </tr>\n",
              "    <tr>\n",
              "      <th>Kensington and Chelsea</th>\n",
              "      <td>231.5</td>\n",
              "    </tr>\n",
              "    <tr>\n",
              "      <th rowspan=\"2\" valign=\"top\">f</th>\n",
              "      <th>Westminster</th>\n",
              "      <td>190.0</td>\n",
              "    </tr>\n",
              "    <tr>\n",
              "      <th>Kensington and Chelsea</th>\n",
              "      <td>187.0</td>\n",
              "    </tr>\n",
              "    <tr>\n",
              "      <th rowspan=\"7\" valign=\"top\">t</th>\n",
              "      <th>City of London</th>\n",
              "      <td>170.0</td>\n",
              "    </tr>\n",
              "    <tr>\n",
              "      <th>...</th>\n",
              "      <td>...</td>\n",
              "    </tr>\n",
              "    <tr>\n",
              "      <th>Barking and Dagenham</th>\n",
              "      <td>63.5</td>\n",
              "    </tr>\n",
              "    <tr>\n",
              "      <th>Croydon</th>\n",
              "      <td>55.0</td>\n",
              "    </tr>\n",
              "    <tr>\n",
              "      <th>Havering</th>\n",
              "      <td>50.5</td>\n",
              "    </tr>\n",
              "    <tr>\n",
              "      <th>Bexley</th>\n",
              "      <td>50.0</td>\n",
              "    </tr>\n",
              "    <tr>\n",
              "      <th>Sutton</th>\n",
              "      <td>50.0</td>\n",
              "    </tr>\n",
              "  </tbody>\n",
              "</table>\n",
              "<p>66 rows × 1 columns</p>\n",
              "</div>\n",
              "    <div class=\"colab-df-buttons\">\n",
              "\n",
              "  <div class=\"colab-df-container\">\n",
              "    <button class=\"colab-df-convert\" onclick=\"convertToInteractive('df-118bba7d-6020-4815-8b5c-35d39c664eac')\"\n",
              "            title=\"Convert this dataframe to an interactive table.\"\n",
              "            style=\"display:none;\">\n",
              "\n",
              "  <svg xmlns=\"http://www.w3.org/2000/svg\" height=\"24px\" viewBox=\"0 -960 960 960\">\n",
              "    <path d=\"M120-120v-720h720v720H120Zm60-500h600v-160H180v160Zm220 220h160v-160H400v160Zm0 220h160v-160H400v160ZM180-400h160v-160H180v160Zm440 0h160v-160H620v160ZM180-180h160v-160H180v160Zm440 0h160v-160H620v160Z\"/>\n",
              "  </svg>\n",
              "    </button>\n",
              "\n",
              "  <style>\n",
              "    .colab-df-container {\n",
              "      display:flex;\n",
              "      gap: 12px;\n",
              "    }\n",
              "\n",
              "    .colab-df-convert {\n",
              "      background-color: #E8F0FE;\n",
              "      border: none;\n",
              "      border-radius: 50%;\n",
              "      cursor: pointer;\n",
              "      display: none;\n",
              "      fill: #1967D2;\n",
              "      height: 32px;\n",
              "      padding: 0 0 0 0;\n",
              "      width: 32px;\n",
              "    }\n",
              "\n",
              "    .colab-df-convert:hover {\n",
              "      background-color: #E2EBFA;\n",
              "      box-shadow: 0px 1px 2px rgba(60, 64, 67, 0.3), 0px 1px 3px 1px rgba(60, 64, 67, 0.15);\n",
              "      fill: #174EA6;\n",
              "    }\n",
              "\n",
              "    .colab-df-buttons div {\n",
              "      margin-bottom: 4px;\n",
              "    }\n",
              "\n",
              "    [theme=dark] .colab-df-convert {\n",
              "      background-color: #3B4455;\n",
              "      fill: #D2E3FC;\n",
              "    }\n",
              "\n",
              "    [theme=dark] .colab-df-convert:hover {\n",
              "      background-color: #434B5C;\n",
              "      box-shadow: 0px 1px 3px 1px rgba(0, 0, 0, 0.15);\n",
              "      filter: drop-shadow(0px 1px 2px rgba(0, 0, 0, 0.3));\n",
              "      fill: #FFFFFF;\n",
              "    }\n",
              "  </style>\n",
              "\n",
              "    <script>\n",
              "      const buttonEl =\n",
              "        document.querySelector('#df-118bba7d-6020-4815-8b5c-35d39c664eac button.colab-df-convert');\n",
              "      buttonEl.style.display =\n",
              "        google.colab.kernel.accessAllowed ? 'block' : 'none';\n",
              "\n",
              "      async function convertToInteractive(key) {\n",
              "        const element = document.querySelector('#df-118bba7d-6020-4815-8b5c-35d39c664eac');\n",
              "        const dataTable =\n",
              "          await google.colab.kernel.invokeFunction('convertToInteractive',\n",
              "                                                    [key], {});\n",
              "        if (!dataTable) return;\n",
              "\n",
              "        const docLinkHtml = 'Like what you see? Visit the ' +\n",
              "          '<a target=\"_blank\" href=https://colab.research.google.com/notebooks/data_table.ipynb>data table notebook</a>'\n",
              "          + ' to learn more about interactive tables.';\n",
              "        element.innerHTML = '';\n",
              "        dataTable['output_type'] = 'display_data';\n",
              "        await google.colab.output.renderOutput(dataTable, element);\n",
              "        const docLink = document.createElement('div');\n",
              "        docLink.innerHTML = docLinkHtml;\n",
              "        element.appendChild(docLink);\n",
              "      }\n",
              "    </script>\n",
              "  </div>\n",
              "\n",
              "\n",
              "<div id=\"df-0a5d925c-b79e-4496-8f6a-36274c09c960\">\n",
              "  <button class=\"colab-df-quickchart\" onclick=\"quickchart('df-0a5d925c-b79e-4496-8f6a-36274c09c960')\"\n",
              "            title=\"Suggest charts\"\n",
              "            style=\"display:none;\">\n",
              "\n",
              "<svg xmlns=\"http://www.w3.org/2000/svg\" height=\"24px\"viewBox=\"0 0 24 24\"\n",
              "     width=\"24px\">\n",
              "    <g>\n",
              "        <path d=\"M19 3H5c-1.1 0-2 .9-2 2v14c0 1.1.9 2 2 2h14c1.1 0 2-.9 2-2V5c0-1.1-.9-2-2-2zM9 17H7v-7h2v7zm4 0h-2V7h2v10zm4 0h-2v-4h2v4z\"/>\n",
              "    </g>\n",
              "</svg>\n",
              "  </button>\n",
              "\n",
              "<style>\n",
              "  .colab-df-quickchart {\n",
              "      --bg-color: #E8F0FE;\n",
              "      --fill-color: #1967D2;\n",
              "      --hover-bg-color: #E2EBFA;\n",
              "      --hover-fill-color: #174EA6;\n",
              "      --disabled-fill-color: #AAA;\n",
              "      --disabled-bg-color: #DDD;\n",
              "  }\n",
              "\n",
              "  [theme=dark] .colab-df-quickchart {\n",
              "      --bg-color: #3B4455;\n",
              "      --fill-color: #D2E3FC;\n",
              "      --hover-bg-color: #434B5C;\n",
              "      --hover-fill-color: #FFFFFF;\n",
              "      --disabled-bg-color: #3B4455;\n",
              "      --disabled-fill-color: #666;\n",
              "  }\n",
              "\n",
              "  .colab-df-quickchart {\n",
              "    background-color: var(--bg-color);\n",
              "    border: none;\n",
              "    border-radius: 50%;\n",
              "    cursor: pointer;\n",
              "    display: none;\n",
              "    fill: var(--fill-color);\n",
              "    height: 32px;\n",
              "    padding: 0;\n",
              "    width: 32px;\n",
              "  }\n",
              "\n",
              "  .colab-df-quickchart:hover {\n",
              "    background-color: var(--hover-bg-color);\n",
              "    box-shadow: 0 1px 2px rgba(60, 64, 67, 0.3), 0 1px 3px 1px rgba(60, 64, 67, 0.15);\n",
              "    fill: var(--button-hover-fill-color);\n",
              "  }\n",
              "\n",
              "  .colab-df-quickchart-complete:disabled,\n",
              "  .colab-df-quickchart-complete:disabled:hover {\n",
              "    background-color: var(--disabled-bg-color);\n",
              "    fill: var(--disabled-fill-color);\n",
              "    box-shadow: none;\n",
              "  }\n",
              "\n",
              "  .colab-df-spinner {\n",
              "    border: 2px solid var(--fill-color);\n",
              "    border-color: transparent;\n",
              "    border-bottom-color: var(--fill-color);\n",
              "    animation:\n",
              "      spin 1s steps(1) infinite;\n",
              "  }\n",
              "\n",
              "  @keyframes spin {\n",
              "    0% {\n",
              "      border-color: transparent;\n",
              "      border-bottom-color: var(--fill-color);\n",
              "      border-left-color: var(--fill-color);\n",
              "    }\n",
              "    20% {\n",
              "      border-color: transparent;\n",
              "      border-left-color: var(--fill-color);\n",
              "      border-top-color: var(--fill-color);\n",
              "    }\n",
              "    30% {\n",
              "      border-color: transparent;\n",
              "      border-left-color: var(--fill-color);\n",
              "      border-top-color: var(--fill-color);\n",
              "      border-right-color: var(--fill-color);\n",
              "    }\n",
              "    40% {\n",
              "      border-color: transparent;\n",
              "      border-right-color: var(--fill-color);\n",
              "      border-top-color: var(--fill-color);\n",
              "    }\n",
              "    60% {\n",
              "      border-color: transparent;\n",
              "      border-right-color: var(--fill-color);\n",
              "    }\n",
              "    80% {\n",
              "      border-color: transparent;\n",
              "      border-right-color: var(--fill-color);\n",
              "      border-bottom-color: var(--fill-color);\n",
              "    }\n",
              "    90% {\n",
              "      border-color: transparent;\n",
              "      border-bottom-color: var(--fill-color);\n",
              "    }\n",
              "  }\n",
              "</style>\n",
              "\n",
              "  <script>\n",
              "    async function quickchart(key) {\n",
              "      const quickchartButtonEl =\n",
              "        document.querySelector('#' + key + ' button');\n",
              "      quickchartButtonEl.disabled = true;  // To prevent multiple clicks.\n",
              "      quickchartButtonEl.classList.add('colab-df-spinner');\n",
              "      try {\n",
              "        const charts = await google.colab.kernel.invokeFunction(\n",
              "            'suggestCharts', [key], {});\n",
              "      } catch (error) {\n",
              "        console.error('Error during call to suggestCharts:', error);\n",
              "      }\n",
              "      quickchartButtonEl.classList.remove('colab-df-spinner');\n",
              "      quickchartButtonEl.classList.add('colab-df-quickchart-complete');\n",
              "    }\n",
              "    (() => {\n",
              "      let quickchartButtonEl =\n",
              "        document.querySelector('#df-0a5d925c-b79e-4496-8f6a-36274c09c960 button');\n",
              "      quickchartButtonEl.style.display =\n",
              "        google.colab.kernel.accessAllowed ? 'block' : 'none';\n",
              "    })();\n",
              "  </script>\n",
              "</div>\n",
              "\n",
              "    </div>\n",
              "  </div>\n"
            ],
            "text/plain": [
              "                                          price_cleaned\n",
              "host_is_superhost neighbourhood_cleansed               \n",
              "t                 Westminster                     238.5\n",
              "                  Kensington and Chelsea          231.5\n",
              "f                 Westminster                     190.0\n",
              "                  Kensington and Chelsea          187.0\n",
              "t                 City of London                  170.0\n",
              "...                                                 ...\n",
              "                  Barking and Dagenham             63.5\n",
              "                  Croydon                          55.0\n",
              "                  Havering                         50.5\n",
              "                  Bexley                           50.0\n",
              "                  Sutton                           50.0\n",
              "\n",
              "[66 rows x 1 columns]"
            ]
          },
          "execution_count": 27,
          "metadata": {},
          "output_type": "execute_result"
        }
      ],
      "source": [
        "listings.groupby(['host_is_superhost','neighbourhood_cleansed']).agg({\"price_cleaned\":'median'}).sort_values(by = 'price_cleaned', ascending = False)"
      ]
    },
    {
      "cell_type": "code",
      "execution_count": null,
      "metadata": {
        "colab": {
          "base_uri": "https://localhost:8080/"
        },
        "id": "0r6BXKIjqjfZ",
        "outputId": "5a623c30-259e-48f1-cd27-6fdc161a9165"
      },
      "outputs": [
        {
          "data": {
            "text/plain": [
              "48.5"
            ]
          },
          "execution_count": 28,
          "metadata": {},
          "output_type": "execute_result"
        }
      ],
      "source": [
        "238.5 - 190"
      ]
    },
    {
      "cell_type": "code",
      "execution_count": null,
      "metadata": {
        "id": "CtorVt1Qm2V5"
      },
      "outputs": [],
      "source": [
        "import numpy as np"
      ]
    },
    {
      "cell_type": "code",
      "execution_count": null,
      "metadata": {
        "id": "QlPp8BegrjDy"
      },
      "outputs": [],
      "source": [
        "listing_new = listings[['price_cleaned','review_scores_rating', 'review_scores_accuracy', 'review_scores_cleanliness', 'review_scores_checkin', 'review_scores_communication', 'review_scores_location', 'review_scores_value']]"
      ]
    },
    {
      "cell_type": "code",
      "execution_count": null,
      "metadata": {
        "colab": {
          "base_uri": "https://localhost:8080/"
        },
        "id": "R8IoxD9drqsW",
        "outputId": "117613c4-0706-4693-9f94-c6703454f2a1"
      },
      "outputs": [
        {
          "data": {
            "text/plain": [
              "0.025984333016447304"
            ]
          },
          "execution_count": 42,
          "metadata": {},
          "output_type": "execute_result"
        }
      ],
      "source": [
        "listing_new['price_cleaned'].corr(listing_new['review_scores_location'])"
      ]
    },
    {
      "cell_type": "code",
      "execution_count": null,
      "metadata": {
        "colab": {
          "base_uri": "https://localhost:8080/"
        },
        "id": "27T4rhVZsrFd",
        "outputId": "89a489ec-c463-48c8-caec-13796ef05446"
      },
      "outputs": [
        {
          "data": {
            "text/plain": [
              "-0.03156429294948248"
            ]
          },
          "execution_count": 43,
          "metadata": {},
          "output_type": "execute_result"
        }
      ],
      "source": [
        "listing_new['price_cleaned'].corr(listing_new['review_scores_value'])"
      ]
    },
    {
      "cell_type": "code",
      "execution_count": null,
      "metadata": {
        "colab": {
          "base_uri": "https://localhost:8080/"
        },
        "id": "WyohFb7nsq5i",
        "outputId": "df67d082-76d2-49a9-e980-49bfcf99dfae"
      },
      "outputs": [
        {
          "data": {
            "text/plain": [
              "0.00041132440575844184"
            ]
          },
          "execution_count": 39,
          "metadata": {},
          "output_type": "execute_result"
        }
      ],
      "source": [
        "listing_new['price_cleaned'].corr(listing_new['review_scores_cleanliness'])"
      ]
    },
    {
      "cell_type": "code",
      "execution_count": null,
      "metadata": {
        "colab": {
          "base_uri": "https://localhost:8080/"
        },
        "id": "Sd9JOM6esqyF",
        "outputId": "7884d963-7936-4088-fb69-2c1254f499e5"
      },
      "outputs": [
        {
          "data": {
            "text/plain": [
              "-0.026649852600489826"
            ]
          },
          "execution_count": 40,
          "metadata": {},
          "output_type": "execute_result"
        }
      ],
      "source": [
        "listing_new['price_cleaned'].corr(listing_new['review_scores_checkin'])"
      ]
    },
    {
      "cell_type": "code",
      "execution_count": null,
      "metadata": {
        "id": "GXdAVDvFsqtM"
      },
      "outputs": [],
      "source": [
        "listing_new['price_cleaned'].corr(listing_new['review_scores_rating'])"
      ]
    },
    {
      "cell_type": "code",
      "execution_count": null,
      "metadata": {
        "id": "7o85q2ldsqiu"
      },
      "outputs": [],
      "source": [
        "listing_new['price_cleaned'].corr(listing_new['review_scores_rating'])"
      ]
    },
    {
      "cell_type": "markdown",
      "metadata": {
        "id": "sEhPmxNPvBVK"
      },
      "source": []
    },
    {
      "cell_type": "code",
      "execution_count": null,
      "metadata": {
        "id": "6SkZV7HguFkB"
      },
      "outputs": [],
      "source": [
        "# CODING SECTION"
      ]
    },
    {
      "cell_type": "code",
      "execution_count": null,
      "metadata": {
        "id": "_aB2u5RwvDmX"
      },
      "outputs": [],
      "source": [
        "# Given a string s and an integer k, return the maximum number of vowel letters in any substring of s with length k."
      ]
    },
    {
      "cell_type": "code",
      "execution_count": null,
      "metadata": {
        "id": "yOXfEo2Ivwe9"
      },
      "outputs": [],
      "source": [
        "vowel_list = ['a', 'e', 'i', 'o','u']"
      ]
    },
    {
      "cell_type": "code",
      "execution_count": null,
      "metadata": {
        "colab": {
          "background_save": true
        },
        "id": "KIYfXKOHvxC-"
      },
      "outputs": [],
      "source": [
        "counter = 0\n",
        "sample_string = 'asaeyrarauitatatgh'\n",
        "vowel_list = ['a', 'e', 'i', 'o','u']\n",
        "\n",
        "def count_vowels(sample_string, k):\n",
        "  counter=0\n",
        "  vowels = \"\"\n",
        "  #new_string = sample_string[0:k]\n",
        "  for t in sample_string:\n",
        "    if t in vowel_list:\n",
        "      vowels = vowels+t\n",
        "      #vowels = vowels[0:k]\n",
        "      #counter = counter+1\n",
        "      #print(new_string)\n",
        "  return(vowels[])"
      ]
    },
    {
      "cell_type": "code",
      "execution_count": null,
      "metadata": {
        "colab": {
          "base_uri": "https://localhost:8080/",
          "height": 35
        },
        "id": "Pvo-gsfVxzZ9",
        "outputId": "648f0a21-6a3b-4636-938e-1335b9133212"
      },
      "outputs": [
        {
          "data": {
            "application/vnd.google.colaboratory.intrinsic+json": {
              "type": "string"
            },
            "text/plain": [
              "'aee'"
            ]
          },
          "execution_count": 86,
          "metadata": {},
          "output_type": "execute_result"
        }
      ],
      "source": [
        "count_vowels('abcdeef',6)"
      ]
    },
    {
      "cell_type": "code",
      "execution_count": null,
      "metadata": {
        "id": "17TCuzEZvw87"
      },
      "outputs": [],
      "source": []
    }
  ],
  "metadata": {
    "colab": {
      "provenance": [],
      "include_colab_link": true
    },
    "kernelspec": {
      "display_name": "Python 3",
      "name": "python3"
    },
    "language_info": {
      "name": "python"
    }
  },
  "nbformat": 4,
  "nbformat_minor": 0
}